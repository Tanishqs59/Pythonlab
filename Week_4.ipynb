{
 "cells": [
  {
   "cell_type": "code",
   "execution_count": null,
   "metadata": {},
   "outputs": [
    {
     "name": "stdout",
     "output_type": "stream",
     "text": [
      "False\n",
      "True\n"
     ]
    }
   ],
   "source": [
    "#1. Write a function called is_sorted that takes a list as a parameter and returns True if the list is sorted in ascending order \n",
    "# #and False otherwise.\n",
    "def is_sorted(lst):\n",
    "    for i in range(len(lst) - 1):\n",
    "        if lst[i] > lst[i + 1]:\n",
    "            return False\n",
    "    return True\n",
    "\n",
    "# Example usage\n",
    "print(is_sorted([1, 5, 3, 4])) \n",
    "print(is_sorted([1, 2, 2, 4])) \n"
   ]
  },
  {
   "cell_type": "code",
   "execution_count": 4,
   "metadata": {},
   "outputs": [
    {
     "name": "stdout",
     "output_type": "stream",
     "text": [
      "False\n",
      "True\n"
     ]
    }
   ],
   "source": [
    "#2. Write a function called has_duplicates that takes a list and returns True if there is any element that appears more than once.\n",
    "#  It should not modify the original list.\n",
    "def has_duplicates(lst):\n",
    "    seen = set()\n",
    "    for item in lst:\n",
    "        if item in seen:\n",
    "            return True\n",
    "        seen.add(item)\n",
    "    return False\n",
    "\n",
    "# Example usage\n",
    "print(has_duplicates([1, 2, 3, 4])) \n",
    "print(has_duplicates([1, 2, 3, 2]))  \n"
   ]
  },
  {
   "cell_type": "code",
   "execution_count": 5,
   "metadata": {},
   "outputs": [
    {
     "name": "stdout",
     "output_type": "stream",
     "text": [
      "[1, 2, 3, 4]\n"
     ]
    }
   ],
   "source": [
    "#2.i). Write a function called remove_duplicates that takes a list and returns a new list with only the unique\n",
    " #elements from the original. Hint: they don’t have to be in the same order\n",
    "def remove_duplicates(lst):\n",
    "    unique = []\n",
    "    for item in lst:\n",
    "        if item not in unique:\n",
    "            unique.append(item)\n",
    "    return unique\n",
    "print(remove_duplicates([1, 2, 3, 2, 4, 1]))"
   ]
  },
  {
   "cell_type": "code",
   "execution_count": 6,
   "metadata": {},
   "outputs": [
    {
     "name": "stdout",
     "output_type": "stream",
     "text": [
      "['', 'Hello! Good morning everyone.', 'a', 'I']\n"
     ]
    }
   ],
   "source": [
    "#2.ii). The wordlist I provided, words.txt, doesn’t contain single letter words. So you might want to add “I”, “a”, and the empty\n",
    "#  string.\n",
    "def load_wordlist(filename):\n",
    "    try:\n",
    "        # Read words from the file\n",
    "        with open(filename, 'r') as file:\n",
    "            words = file.read().splitlines()  # Read and split into a list of words\n",
    "        \n",
    "        # Add single-letter words and empty string\n",
    "        words.extend([\"I\", \"a\", \"\"])\n",
    "        \n",
    "        # Remove duplicates and return the final list\n",
    "        return list(set(words))  # Use set to ensure uniqueness\n",
    "\n",
    "    except FileNotFoundError:\n",
    "        print(f\"Error: The file '{filename}' was not found.\")\n",
    "        return []\n",
    "\n",
    "# Example usage\n",
    "wordlist = load_wordlist(\"words.txt\")\n",
    "print(wordlist[:10])  # Print the first 10 words for verification\n"
   ]
  },
  {
   "cell_type": "code",
   "execution_count": 1,
   "metadata": {},
   "outputs": [
    {
     "name": "stdout",
     "output_type": "stream",
     "text": [
      "Original Dictionary: {'2': 'b', '3': 'c', '4': 'd'}\n",
      "Inverted Dictionary: {'b': '2', 'c': '3', 'd': '4'}\n"
     ]
    }
   ],
   "source": [
    "#2.iii). Write a python code to read dictionary values from the user. Construct a function to invert its content. i.e., keys should \n",
    "# be values and values should be keys.\n",
    "def invert_dictionary(d):\n",
    "    return {value: key for key, value in d.items()}\n",
    "\n",
    "# Reading dictionary from the user\n",
    "def read_user_dictionary():\n",
    "    n = int(input(\"Enter the number of key-value pairs: \"))\n",
    "    user_dict = {}\n",
    "    for _ in range(n):\n",
    "        key = input(\"Enter key: \")\n",
    "        value = input(\"Enter value: \")\n",
    "        user_dict[key] = value\n",
    "    return user_dict\n",
    "\n",
    "# Example usage\n",
    "user_dict = read_user_dictionary()\n",
    "print(\"Original Dictionary:\", user_dict)\n",
    "\n",
    "inverted_dict = invert_dictionary(user_dict)\n",
    "print(\"Inverted Dictionary:\", inverted_dict)\n"
   ]
  },
  {
   "cell_type": "code",
   "execution_count": 2,
   "metadata": {},
   "outputs": [
    {
     "name": "stdout",
     "output_type": "stream",
     "text": [
      "Word with commas: h,e,l,l,o\n"
     ]
    }
   ],
   "source": [
    "#3. i) Add a comma between the characters. If the given word is 'Apple', it should become 'A,p,p,l,e'\n",
    "def add_commas(word):\n",
    "    return ','.join(word)\n",
    "input_word = input(\"Enter a word: \")\n",
    "result = add_commas(input_word)\n",
    "print(\"Word with commas:\", result)\n"
   ]
  },
  {
   "cell_type": "code",
   "execution_count": 3,
   "metadata": {},
   "outputs": [
    {
     "name": "stdout",
     "output_type": "stream",
     "text": [
      "String after removal: let  be \n"
     ]
    }
   ],
   "source": [
    "#3.ii) Remove the given word in all the places in a string?\n",
    "def remove_word(string, word):\n",
    "    return string.replace(word, '')\n",
    "\n",
    "input_string = input(\"Enter a string: \")\n",
    "word_to_remove = input(\"Enter the word to remove: \")\n",
    "\n",
    "result = remove_word(input_string, word_to_remove)\n",
    "print(\"String after removal:\", result)\n"
   ]
  },
  {
   "cell_type": "code",
   "execution_count": 4,
   "metadata": {},
   "outputs": [
    {
     "name": "stdout",
     "output_type": "stream",
     "text": [
      "Modified sentence: Hello Every One\n"
     ]
    }
   ],
   "source": [
    "#3.iii) Write a function that takes a sentence as an input parameter and replaces the first letter of every word with the corresponding upper case letter \n",
    "# and the rest of the letters in the word by corresponding letters in lower case without using a built-in function?\n",
    "def capitalize_words(sentence):\n",
    "    result = []\n",
    "    words = sentence.split()  # Split the sentence into words\n",
    "    for word in words:\n",
    "        if len(word) > 0:\n",
    "            # Convert the first character to uppercase (if it's a letter)\n",
    "            first_letter = chr(ord(word[0]) - 32) if 'a' <= word[0] <= 'z' else word[0]\n",
    "            # Convert the rest of the characters to lowercase (if they're letters)\n",
    "            rest_of_word = ''.join(\n",
    "                chr(ord(char) + 32) if 'A' <= char <= 'Z' else char\n",
    "                for char in word[1:]\n",
    "            )\n",
    "            result.append(first_letter + rest_of_word)\n",
    "    return ' '.join(result)\n",
    "\n",
    "# Example usage\n",
    "input_sentence = input(\"Enter a sentence: \")\n",
    "output_sentence = capitalize_words(input_sentence)\n",
    "print(\"Modified sentence:\", output_sentence)\n"
   ]
  },
  {
   "cell_type": "code",
   "execution_count": null,
   "metadata": {},
   "outputs": [
    {
     "name": "stdout",
     "output_type": "stream",
     "text": [
      "All 2-bit binary strings:\n",
      "00\n",
      "01\n",
      "10\n",
      "11\n"
     ]
    }
   ],
   "source": [
    "#4. Writes a recursive function that generates all binary strings of n-bit length\n",
    "def generate_binary_strings(n, prefix=\"\"):\n",
    "    if n == 0:\n",
    "        # Base case: If no more bits to add, return the completed binary string\n",
    "        return [prefix]\n",
    "    else:\n",
    "        # Recursive case: Add '0' and '1' to the prefix and continue\n",
    "        return generate_binary_strings(n - 1, prefix + \"0\") + generate_binary_strings(n - 1, prefix + \"1\")\n",
    "\n",
    "# Example usage\n",
    "n = int(input(\"Enter the value of n: \"))\n",
    "binary_strings = generate_binary_strings(n)\n",
    "print(f\"All {n}-bit binary strings:\")\n",
    "for b in binary_strings:\n",
    "    print(b)\n"
   ]
  },
  {
   "cell_type": "code",
   "execution_count": 6,
   "metadata": {},
   "outputs": [
    {
     "name": "stdout",
     "output_type": "stream",
     "text": [
      "\n",
      "Set 1: {'a', 'c', 'b'}\n",
      "Set 2: {'c', 'b', 'd'}\n",
      "\n",
      "Union (Set1 ∪ Set2): {'a', 'c', 'd', 'b'}\n",
      "Intersection (Set1 ∩ Set2): {'c', 'b'}\n",
      "Difference (Set1 - Set2): {'a'}\n",
      "Difference (Set2 - Set1): {'d'}\n",
      "Symmetric Difference (Set1 Δ Set2): {'a', 'd'}\n",
      "\n",
      "Is Set1 a subset of Set2? False\n",
      "Is Set1 a superset of Set2? False\n",
      "Are Set1 and Set2 disjoint? False\n"
     ]
    }
   ],
   "source": [
    "#5. Write a Python program to implement all set operations\n",
    "def set_operations():\n",
    "    # Input sets from the user\n",
    "    set1 = set(input(\"Enter elements of the first set (comma-separated): \").split(','))\n",
    "    set2 = set(input(\"Enter elements of the second set (comma-separated): \").split(','))\n",
    "\n",
    "    # Display the input sets\n",
    "    print(\"\\nSet 1:\", set1)\n",
    "    print(\"Set 2:\", set2)\n",
    "\n",
    "    # Union\n",
    "    union_set = set1 | set2\n",
    "    print(\"\\nUnion (Set1 ∪ Set2):\", union_set)\n",
    "\n",
    "    # Intersection\n",
    "    intersection_set = set1 & set2\n",
    "    print(\"Intersection (Set1 ∩ Set2):\", intersection_set)\n",
    "\n",
    "    # Difference\n",
    "    difference_set1 = set1 - set2\n",
    "    difference_set2 = set2 - set1\n",
    "    print(\"Difference (Set1 - Set2):\", difference_set1)\n",
    "    print(\"Difference (Set2 - Set1):\", difference_set2)\n",
    "\n",
    "    # Symmetric Difference\n",
    "    symmetric_difference = set1 ^ set2\n",
    "    print(\"Symmetric Difference (Set1 Δ Set2):\", symmetric_difference)\n",
    "\n",
    "    # Check Subset\n",
    "    is_subset = set1 <= set2\n",
    "    print(\"\\nIs Set1 a subset of Set2?\", is_subset)\n",
    "\n",
    "    # Check Superset\n",
    "    is_superset = set1 >= set2\n",
    "    print(\"Is Set1 a superset of Set2?\", is_superset)\n",
    "\n",
    "    # Disjoint Sets\n",
    "    are_disjoint = set1.isdisjoint(set2)\n",
    "    print(\"Are Set1 and Set2 disjoint?\", are_disjoint)\n",
    "\n",
    "# Run the set operations\n",
    "set_operations()\n"
   ]
  },
  {
   "cell_type": "code",
   "execution_count": 7,
   "metadata": {},
   "outputs": [
    {
     "name": "stdout",
     "output_type": "stream",
     "text": [
      "\"madam\" is a palindrome.\n"
     ]
    }
   ],
   "source": [
    "#6. Write a program to check whether a string is palindrome or not\n",
    "def is_palindrome(string):\n",
    "    # Remove spaces and convert to lowercase for uniform comparison\n",
    "    cleaned_string = ''.join(char.lower() for char in string if char.isalnum())\n",
    "    # Check if the cleaned string reads the same forwards and backwards\n",
    "    return cleaned_string == cleaned_string[::-1]\n",
    "\n",
    "# Example usage\n",
    "input_string = input(\"Enter a string: \")\n",
    "if is_palindrome(input_string):\n",
    "    print(f'\"{input_string}\" is a palindrome.')\n",
    "else:\n",
    "    print(f'\"{input_string}\" is not a palindrome.')\n"
   ]
  }
 ],
 "metadata": {
  "kernelspec": {
   "display_name": "Python 3",
   "language": "python",
   "name": "python3"
  },
  "language_info": {
   "codemirror_mode": {
    "name": "ipython",
    "version": 3
   },
   "file_extension": ".py",
   "mimetype": "text/x-python",
   "name": "python",
   "nbconvert_exporter": "python",
   "pygments_lexer": "ipython3",
   "version": "3.13.0"
  }
 },
 "nbformat": 4,
 "nbformat_minor": 2
}
