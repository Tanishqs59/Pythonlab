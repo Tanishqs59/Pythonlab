{
 "cells": [
  {
   "cell_type": "code",
   "execution_count": 1,
   "id": "224178e7-27f3-448d-b424-48f451f1f035",
   "metadata": {},
   "outputs": [
    {
     "name": "stdin",
     "output_type": "stream",
     "text": [
      "Enter number of rows: 5\n"
     ]
    },
    {
     "name": "stdout",
     "output_type": "stream",
     "text": [
      "5 \n",
      "4 4 \n",
      "3 3 3 \n",
      "2 2 2 2 \n",
      "1 1 1 1 1 \n"
     ]
    }
   ],
   "source": [
    "#Print the below triangle using for loop.\n",
    "#5\n",
    "#4 4\n",
    "#3 3 3\n",
    "#2 2 2 2\n",
    "#1 1 1 1 1\n",
    "n=int(input(\"Enter number of rows:\"))\n",
    "for i in range(n, 0, -1):\n",
    "    for j in range(6 - i):\n",
    "        print(i, end=\" \")\n",
    "    print()  "
   ]
  },
  {
   "cell_type": "code",
   "execution_count": 3,
   "id": "55eacb3b-4520-48ec-a6d7-a40f18a77004",
   "metadata": {},
   "outputs": [
    {
     "name": "stdin",
     "output_type": "stream",
     "text": [
      "Enter a single character:  h\n"
     ]
    },
    {
     "name": "stdout",
     "output_type": "stream",
     "text": [
      "'h' is a lowercase letter.\n"
     ]
    }
   ],
   "source": [
    "#Write a program to check whether the given input is digit or lowercase character or uppercase character or a special character (use 'if-else-if' ladder)\n",
    "\n",
    "def check(ch):\n",
    "    if ch.isdigit():\n",
    "        print(f\"'{ch}' is a digit.\")\n",
    "    elif ch.islower():\n",
    "        print(f\"'{ch}' is a lowercase letter.\")\n",
    "    elif ch.isupper():\n",
    "        print(f\"'{ch}' is an uppercase letter.\")\n",
    "    else:\n",
    "        print(f\"'{ch}' is a special character.\")\n",
    "\n",
    "char = input(\"Enter a single character: \")\n",
    "check(char)"
   ]
  },
  {
   "cell_type": "code",
   "execution_count": 7,
   "id": "c4fd9614-85e5-482c-84a4-bb9e41dfb25a",
   "metadata": {},
   "outputs": [
    {
     "name": "stdin",
     "output_type": "stream",
     "text": [
      "Enter range: 10\n"
     ]
    },
    {
     "name": "stdout",
     "output_type": "stream",
     "text": [
      "0 1 1 2 3 5 8 13 21 34 \n"
     ]
    }
   ],
   "source": [
    "#Python Program to Print the Fibonacci sequence using while loop\n",
    "n = int(input(\"Enter range:\"))\n",
    "n1 = 0\n",
    "n2 = 1\n",
    "count = 0\n",
    "\n",
    "while count < n:\n",
    "    print(n1, end=\" \")\n",
    "    count += 1\n",
    "    n1, n2 = n2,  n1 + n2\n",
    "print()"
   ]
  },
  {
   "cell_type": "code",
   "execution_count": 9,
   "id": "c662d606-e84b-4023-b3bc-659ab814b1e8",
   "metadata": {},
   "outputs": [
    {
     "name": "stdin",
     "output_type": "stream",
     "text": [
      "Enter the  Range :  50\n"
     ]
    },
    {
     "name": "stdout",
     "output_type": "stream",
     "text": [
      "2 3 5 7 11 13 17 19 23 29 31 37 41 43 47 "
     ]
    }
   ],
   "source": [
    "#Python program to print all prime numbers in a given interval (use break)\n",
    "n = int(input (\"Enter the  Range : \"))  \n",
    "for x in range (1, n + 1):  \n",
    "    if x > 1:  \n",
    "        for i in range (2, x):  \n",
    "            if (x % i) == 0:  \n",
    "                break  \n",
    "        else:  \n",
    "            print (x,end=\" \")\n"
   ]
  },
  {
   "cell_type": "code",
   "execution_count": 11,
   "id": "8d72c47b-8005-4718-9eb2-6f71eb443a8e",
   "metadata": {},
   "outputs": [
    {
     "name": "stdin",
     "output_type": "stream",
     "text": [
      "Enter the first number:  3\n",
      "Enter the second number:  7\n"
     ]
    },
    {
     "name": "stdout",
     "output_type": "stream",
     "text": [
      "The Least Common Multiple (LCM) of 3 and 7 is 21.0.\n"
     ]
    }
   ],
   "source": [
    "# Write a program to compute LCM of two numbers by taking input from the user\n",
    "import math\n",
    "def findlcm(a, b):\n",
    "    gcd = math.gcd(a, b) \n",
    "    lcm = abs(a * b) / gcd  \n",
    "    return lcm\n",
    "num1 = int(input(\"Enter the first number: \"))\n",
    "num2 = int(input(\"Enter the second number: \"))\n",
    "\n",
    "lcm = findlcm(num1, num2)\n",
    "print(f\"The Least Common Multiple (LCM) of {num1} and {num2} is {lcm}.\")"
   ]
  },
  {
   "cell_type": "code",
   "execution_count": null,
   "id": "a23d7855-6d5c-4b88-a80f-a4779672f6a4",
   "metadata": {},
   "outputs": [],
   "source": []
  }
 ],
 "metadata": {
  "kernelspec": {
   "display_name": "Python 3 (ipykernel)",
   "language": "python",
   "name": "python3"
  },
  "language_info": {
   "codemirror_mode": {
    "name": "ipython",
    "version": 3
   },
   "file_extension": ".py",
   "mimetype": "text/x-python",
   "name": "python",
   "nbconvert_exporter": "python",
   "pygments_lexer": "ipython3",
   "version": "3.12.4"
  }
 },
 "nbformat": 4,
 "nbformat_minor": 5
}
