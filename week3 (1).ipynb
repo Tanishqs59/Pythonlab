{
 "cells": [
  {
   "cell_type": "code",
   "execution_count": 7,
   "id": "091c36f6-fdbc-4018-b98c-186cb12f2e2e",
   "metadata": {},
   "outputs": [
    {
     "ename": "NameError",
     "evalue": "name 'list_data' is not defined",
     "output_type": "error",
     "traceback": [
      "\u001b[1;31m---------------------------------------------------------------------------\u001b[0m",
      "\u001b[1;31mNameError\u001b[0m                                 Traceback (most recent call last)",
      "Cell \u001b[1;32mIn[7], line 4\u001b[0m\n\u001b[0;32m      2\u001b[0m \u001b[38;5;28;01mimport\u001b[39;00m \u001b[38;5;21;01mnumpy\u001b[39;00m \u001b[38;5;28;01mas\u001b[39;00m \u001b[38;5;21;01mnp\u001b[39;00m\n\u001b[0;32m      3\u001b[0m list1\u001b[38;5;241m=\u001b[39m[\u001b[38;5;241m1\u001b[39m,\u001b[38;5;241m2\u001b[39m,\u001b[38;5;124m\"\u001b[39m\u001b[38;5;124mhi\u001b[39m\u001b[38;5;124m\"\u001b[39m,\u001b[38;5;241m4\u001b[39m,\u001b[38;5;241m5\u001b[39m,\u001b[38;5;124m\"\u001b[39m\u001b[38;5;124ma\u001b[39m\u001b[38;5;124m\"\u001b[39m]\n\u001b[1;32m----> 4\u001b[0m array1\u001b[38;5;241m=\u001b[39mnp\u001b[38;5;241m.\u001b[39marray(list_data)\n\u001b[0;32m      5\u001b[0m tuple1\u001b[38;5;241m=\u001b[39m(\u001b[38;5;241m6\u001b[39m,\u001b[38;5;124m\"\u001b[39m\u001b[38;5;124mx\u001b[39m\u001b[38;5;124m\"\u001b[39m,\u001b[38;5;241m8\u001b[39m,\u001b[38;5;241m9\u001b[39m,\u001b[38;5;241m10\u001b[39m)\n\u001b[0;32m      6\u001b[0m array2\u001b[38;5;241m=\u001b[39mnp\u001b[38;5;241m.\u001b[39marray(tuple1)\n",
      "\u001b[1;31mNameError\u001b[0m: name 'list_data' is not defined"
     ]
    }
   ],
   "source": [
    "#1.i.Write a program to convert a list and tuple into arrays.\n",
    "import numpy as np\n",
    "list1=[1,2,\"hi\",4,5,\"a\"]\n",
    "array1=np.array(list1)\n",
    "tuple1=(6,\"x\",8,9,10)\n",
    "array2=np.array(tuple1)\n",
    "print(list1)\n",
    "print(tuple1)\n",
    "print(\"After converting list into array\")\n",
    "print(array1)\n",
    "print(\"After converting tuple into array\")\n",
    "print(array2)"
   ]
  },
  {
   "cell_type": "code",
   "execution_count": 5,
   "id": "9006ddb3-0def-48e0-9280-b172bf737fae",
   "metadata": {},
   "outputs": [
    {
     "name": "stdout",
     "output_type": "stream",
     "text": [
      "[1, 4] "
     ]
    }
   ],
   "source": [
    "#1.ii.Write a program to find common values between two arrays.\n",
    "A=[1,7,4]\n",
    "B=[1,2,3,4]\n",
    "newarray=[x for x in A if x in B]\n",
    "print(newarray,end=\" \")"
   ]
  },
  {
   "cell_type": "code",
   "execution_count": 9,
   "id": "072525f8-2e59-4e3e-a4bd-7347f49ec480",
   "metadata": {},
   "outputs": [
    {
     "name": "stdin",
     "output_type": "stream",
     "text": [
      "Enter first number: 13\n",
      "Enter second number: 34\n"
     ]
    },
    {
     "name": "stdout",
     "output_type": "stream",
     "text": [
      "Greatest common divisor of 13 and 34 is 1\n"
     ]
    }
   ],
   "source": [
    "#2.Write a function called gcd that takes parameters a and b and returns their greatest common divisor.\n",
    "import math\n",
    "def find_gcd(a,b):\n",
    "    gcd=math.gcd(a,b)\n",
    "    return gcd\n",
    "a=int(input(\"Enter first number:\"))\n",
    "b=int(input(\"Enter second number:\"))\n",
    "print(f\"Greatest common divisor of {a} and {b} is {find_gcd(a,b)}\")"
   ]
  },
  {
   "cell_type": "code",
   "execution_count": 11,
   "id": "8edf0a03-04b5-4841-8f5e-2cb1a1eeeaf8",
   "metadata": {},
   "outputs": [
    {
     "name": "stdin",
     "output_type": "stream",
     "text": [
      "Enter string: madam\n"
     ]
    },
    {
     "name": "stdout",
     "output_type": "stream",
     "text": [
      "Yes,madam is a palindrome \n"
     ]
    }
   ],
   "source": [
    "#3.Write a function called palindrome that takes a string argument and returns True if it is a palindrome and False otherwise. \n",
    "# Remember that you can use the built-in function len to check the length of a string.\n",
    "def isPalindrome(s):\n",
    "    n=len(s)\n",
    "    for i in range(0, int(n/2)):\n",
    "        if s[i] != s[n-i-1]:\n",
    "            return False\n",
    "    return True\n",
    "s = str(input(\"Enter string:\"))\n",
    "ans = isPalindrome(s)\n",
    "\n",
    "if (ans):\n",
    "    print(f\"Yes,{s} is a palindrome \")\n",
    "else:\n",
    "    print(f\"No,{s} is not a palindrome\")"
   ]
  },
  {
   "cell_type": "code",
   "execution_count": 13,
   "id": "722d60db-1583-4988-a1e5-27054989bd7f",
   "metadata": {},
   "outputs": [
    {
     "name": "stdin",
     "output_type": "stream",
     "text": [
      "Enter numbers separated by spaces:  2 3 56 2 3 5\n"
     ]
    },
    {
     "name": "stdout",
     "output_type": "stream",
     "text": [
      "Mean: 11.833333333333334\n",
      "Median: 3.0\n",
      "Mode: [2, 3]\n"
     ]
    }
   ],
   "source": [
    "#4. Find mean, median, mode for the given set of numbers in a list. \n",
    "def calculate_mean(numbers):\n",
    "    \"\"\"\n",
    "    Calculates the mean of a list of numbers.\n",
    "    \"\"\"\n",
    "    total = sum(numbers)\n",
    "    count = len(numbers)\n",
    "    return total / count\n",
    "\n",
    "def calculate_median(numbers):\n",
    "    \"\"\"\n",
    "    Calculates the median of a list of numbers.\n",
    "    \"\"\"\n",
    "    sorted_numbers = sorted(numbers)  # Sort the numbers\n",
    "    n = len(sorted_numbers)\n",
    "    mid = n // 2\n",
    "    if n % 2 == 0:\n",
    "        # If even number of elements, median is the average of the middle two\n",
    "        return (sorted_numbers[mid - 1] + sorted_numbers[mid]) / 2\n",
    "    else:\n",
    "        # If odd number of elements, median is the middle element\n",
    "        return sorted_numbers[mid]\n",
    "\n",
    "def calculate_mode(numbers):\n",
    "    frequency = {}\n",
    "    for num in numbers:\n",
    "        frequency[num] = frequency.get(num, 0) + 1\n",
    "    \n",
    "    max_freq = max(frequency.values())\n",
    "    modes = [key for key, value in frequency.items() if value == max_freq]\n",
    "    \n",
    "    return modes if len(modes) > 1 else modes[0]\n",
    "\n",
    "# Example usage\n",
    "numbers = list(map(int, input(\"Enter numbers separated by spaces: \").split()))\n",
    "print(\"Mean:\", calculate_mean(numbers))\n",
    "print(\"Median:\", calculate_median(numbers))\n",
    "print(\"Mode:\", calculate_mode(numbers))"
   ]
  },
  {
   "cell_type": "code",
   "execution_count": 15,
   "id": "769f483d-c836-454f-a6fb-0406203fcfc4",
   "metadata": {},
   "outputs": [
    {
     "name": "stdout",
     "output_type": "stream",
     "text": [
      "The created tuple is: (1, 2, 3, 'apple', 4.5, True)\n"
     ]
    }
   ],
   "source": [
    "#5. Write a Python program to create a tuple. \n",
    "def create_tuple():\n",
    "    my_tuple = (1, 2, 3, \"apple\", 4.5, True)\n",
    "    print(\"The created tuple is:\", my_tuple)\n",
    "create_tuple()"
   ]
  },
  {
   "cell_type": "code",
   "execution_count": 17,
   "id": "f9d32e65-4034-4b36-b01e-a071e6525065",
   "metadata": {},
   "outputs": [
    {
     "name": "stdout",
     "output_type": "stream",
     "text": [
      "The created tuple is: (1, 2, 3, 'apple', 4.5, True)\n"
     ]
    }
   ],
   "source": [
    "#6. Write a Python program to create a tuple with different data types\n",
    "def create_tuple():\n",
    "    my_tuple = (1, 2, 3, \"apple\", 4.5, True)\n",
    "    print(\"The created tuple is:\", my_tuple)\n",
    "create_tuple()"
   ]
  },
  {
   "cell_type": "code",
   "execution_count": 19,
   "id": "159ea2c0-5e62-4a13-ba8d-719bd5023162",
   "metadata": {},
   "outputs": [
    {
     "name": "stdin",
     "output_type": "stream",
     "text": [
      "Enter the element to check:  hi\n"
     ]
    },
    {
     "name": "stdout",
     "output_type": "stream",
     "text": [
      "hi exists in the tuple.\n"
     ]
    }
   ],
   "source": [
    "#7. Write a Python program to check whether an element exists within a tuple\n",
    "def check_element_in_tuple(my_tuple, element):\n",
    "    if element in my_tuple:\n",
    "        return True\n",
    "    else:\n",
    "        return False\n",
    "my_tuple = (1, 2, 3,\"hi\", 4.5, True)\n",
    "element_to_check = input(\"Enter the element to check: \")\n",
    "if check_element_in_tuple(my_tuple, element_to_check):\n",
    "    print(f\"{element_to_check} exists in the tuple.\")\n",
    "else:\n",
    "    print(f\"{element_to_check} does not exist in the tuple.\")"
   ]
  },
  {
   "cell_type": "code",
   "execution_count": null,
   "id": "f18acd59-fbe5-45e6-99f7-b1ef1d6f00b6",
   "metadata": {},
   "outputs": [],
   "source": []
  }
 ],
 "metadata": {
  "kernelspec": {
   "display_name": "Python 3 (ipykernel)",
   "language": "python",
   "name": "python3"
  },
  "language_info": {
   "codemirror_mode": {
    "name": "ipython",
    "version": 3
   },
   "file_extension": ".py",
   "mimetype": "text/x-python",
   "name": "python",
   "nbconvert_exporter": "python",
   "pygments_lexer": "ipython3",
   "version": "3.12.4"
  }
 },
 "nbformat": 4,
 "nbformat_minor": 5
}
