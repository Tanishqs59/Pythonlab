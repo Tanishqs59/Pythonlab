{
 "cells": [
  {
   "cell_type": "code",
   "execution_count": 5,
   "metadata": {},
   "outputs": [
    {
     "name": "stdout",
     "output_type": "stream",
     "text": [
      "Contents of C:\\Users\\dhara\\Desktop\\Python practice\\words.txt and C:\\Users\\dhara\\Desktop\\Python practice\\sample.txt have been merged into output.txt\n"
     ]
    }
   ],
   "source": [
    "#1. Write a Python code to merge two given file contents into a third file.\n",
    "def merge_files(file1, file2, output_file):\n",
    "    try:\n",
    "        with open(file1, 'r') as f1:\n",
    "            file1_contents = f1.read()\n",
    "        with open(file2, 'r') as f2:\n",
    "            file2_contents = f2.read()\n",
    "        with open(output_file, 'w') as output:\n",
    "            output.write(file1_contents)\n",
    "            output.write(file2_contents)\n",
    "\n",
    "        print(f\"Contents of {file1} and {file2} have been merged into {output_file}\")\n",
    "    \n",
    "    except FileNotFoundError as e:\n",
    "        print(f\"Error: {e}\")\n",
    "    except Exception as e:\n",
    "        print(f\"An error occurred: {e}\")\n",
    "\n",
    "file1 = r'C:\\Users\\dhara\\Desktop\\Python practice\\words.txt'\n",
    "file2 = r'C:\\Users\\dhara\\Desktop\\Python practice\\sample.txt'\n",
    "output_file = 'output.txt'\n",
    "merge_files(file1, file2, output_file)"
   ]
  },
  {
   "cell_type": "code",
   "execution_count": 6,
   "metadata": {},
   "outputs": [
    {
     "name": "stdout",
     "output_type": "stream",
     "text": [
      "Word 'every' found on line 1: Hello! Good morning everyone.\n"
     ]
    }
   ],
   "source": [
    "#2. Write a Python code to open a given file and construct a function to check for given words present in it and display on found.\n",
    "def search_word_in_file(file_name, word):\n",
    "    try:\n",
    "        with open(file_name, 'r') as file:\n",
    "            line_number = 1\n",
    "            found = False\n",
    "            for line in file:\n",
    "                if word in line:\n",
    "                    print(f\"Word '{word}' found on line {line_number}: {line.strip()}\")\n",
    "                    found = True\n",
    "                line_number += 1\n",
    "            \n",
    "            if not found:\n",
    "                print(f\"Word '{word}' not found in the file.\")\n",
    "    \n",
    "    except FileNotFoundError:\n",
    "        print(f\"Error: The file '{file_name}' was not found.\")\n",
    "    except Exception as e:\n",
    "        print(f\"An error occurred: {e}\")\n",
    "\n",
    "file_name = r'C:\\Users\\dhara\\Desktop\\Python practice\\words.txt' \n",
    "word_to_search = 'every' \n",
    "search_word_in_file(file_name, word_to_search)\n"
   ]
  },
  {
   "cell_type": "code",
   "execution_count": 7,
   "metadata": {},
   "outputs": [
    {
     "name": "stdout",
     "output_type": "stream",
     "text": [
      "The most frequent word is 'morning' with 2 occurrences.\n"
     ]
    }
   ],
   "source": [
    "#3. Write a Python code to Read text from a text file, find the word with most number of occurrences\n",
    "def find_most_frequent_word(file_name):\n",
    "    try:\n",
    "        with open(file_name, 'r') as file:\n",
    "            text = file.read()  \n",
    "            words = text.lower().split()\n",
    "            word_count = {}\n",
    "            for word in words:\n",
    "                word = word.strip('.,!?\";:') \n",
    "                if word in word_count:\n",
    "                    word_count[word] += 1\n",
    "                else:\n",
    "                    word_count[word] = 1\n",
    "\n",
    "            most_frequent_word = None\n",
    "            max_count = 0\n",
    "            for word, count in word_count.items():\n",
    "                if count > max_count:\n",
    "                    most_frequent_word = word\n",
    "                    max_count = count\n",
    "\n",
    "            print(f\"The most frequent word is '{most_frequent_word}' with {max_count} occurrences.\")\n",
    "    \n",
    "    except FileNotFoundError:\n",
    "        print(f\"Error: The file '{file_name}' was not found.\")\n",
    "    except Exception as e:\n",
    "        print(f\"An error occurred: {e}\")\n",
    "file_name = r'C:\\Users\\dhara\\Desktop\\Python practice\\words.txt'\n",
    "find_most_frequent_word(file_name)\n"
   ]
  },
  {
   "cell_type": "code",
   "execution_count": 8,
   "metadata": {},
   "outputs": [
    {
     "name": "stdout",
     "output_type": "stream",
     "text": [
      "Number of words: 5\n",
      "Number of vowels: 14\n",
      "Number of blank spaces: 4\n",
      "Number of lowercase letters: 34\n",
      "Number of uppercase letters: 3\n"
     ]
    }
   ],
   "source": [
    "#4. Write a function that reads a file file1 and displays the number of words, number of vowels, blank spaces, lower case letters and uppercase letters\n",
    "def analyze_file(file_name):\n",
    "    try:\n",
    "        with open(file_name, 'r') as file:\n",
    "            text = file.read() \n",
    "            word_count = 0\n",
    "            vowel_count = 0\n",
    "            blank_space_count = 0\n",
    "            lowercase_count = 0\n",
    "            uppercase_count = 0\n",
    "        \n",
    "            vowels = \"aeiouAEIOU\"\n",
    "        \n",
    "            for char in text:\n",
    "                if char == ' ' or char == '\\n':\n",
    "                    word_count += 1\n",
    "                \n",
    "                if char in vowels:\n",
    "                    vowel_count += 1\n",
    "\n",
    "                if char == ' ':\n",
    "                    blank_space_count += 1\n",
    "                \n",
    "                if char.islower():\n",
    "                    lowercase_count += 1\n",
    "                \n",
    "                if char.isupper():\n",
    "                    uppercase_count += 1\n",
    "        \n",
    "            word_count += 1 if text[-1] != ' ' and text[-1] != '\\n' else 0\n",
    "            print(f\"Number of words: {word_count}\")\n",
    "            print(f\"Number of vowels: {vowel_count}\")\n",
    "            print(f\"Number of blank spaces: {blank_space_count}\")\n",
    "            print(f\"Number of lowercase letters: {lowercase_count}\")\n",
    "            print(f\"Number of uppercase letters: {uppercase_count}\")\n",
    "    \n",
    "    except FileNotFoundError:\n",
    "        print(f\"Error: The file '{file_name}' was not found.\")\n",
    "    except Exception as e:\n",
    "        print(f\"An error occurred: {e}\")\n",
    "\n",
    "file_name = r'C:\\Users\\dhara\\Desktop\\Python practice\\words.txt' \n",
    "analyze_file(file_name)\n"
   ]
  },
  {
   "cell_type": "code",
   "execution_count": 9,
   "metadata": {},
   "outputs": [
    {
     "name": "stdout",
     "output_type": "stream",
     "text": [
      ".gninrom ylevoL.enoyreve gninrom dooG !olleH\n"
     ]
    }
   ],
   "source": [
    "#5. Write a program to print each line of a file in reverse order.\n",
    "def print_lines_in_reverse(file_name):\n",
    "    try:\n",
    "        with open(file_name, 'r') as file:\n",
    "            for line in file:\n",
    "                print(line.strip()[::-1])\n",
    "    \n",
    "    except FileNotFoundError:\n",
    "        print(f\"Error: The file '{file_name}' was not found.\")\n",
    "    except Exception as e:\n",
    "        print(f\"An error occurred: {e}\")\n",
    "file_name = r'C:\\Users\\dhara\\Desktop\\Python practice\\words.txt'  \n",
    "print_lines_in_reverse(file_name)\n"
   ]
  }
 ],
 "metadata": {
  "kernelspec": {
   "display_name": "Python 3",
   "language": "python",
   "name": "python3"
  },
  "language_info": {
   "codemirror_mode": {
    "name": "ipython",
    "version": 3
   },
   "file_extension": ".py",
   "mimetype": "text/x-python",
   "name": "python",
   "nbconvert_exporter": "python",
   "pygments_lexer": "ipython3",
   "version": "3.13.0"
  }
 },
 "nbformat": 4,
 "nbformat_minor": 2
}
