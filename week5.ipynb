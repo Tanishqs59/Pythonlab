{
 "cells": [
  {
   "cell_type": "code",
   "execution_count": 1,
   "id": "996e89e6-ac2f-4cb7-8036-b452921f093b",
   "metadata": {},
   "outputs": [
    {
     "name": "stdout",
     "output_type": "stream",
     "text": [
      "The matrix is:\n",
      "[1, 2, 3]\n",
      "[4, 5, 6]\n",
      "[7, 8, 9]\n"
     ]
    }
   ],
   "source": [
    "#1. i) Write a python program that defines a matrix and prints\n",
    "def define_and_print_matrix():\n",
    "    # Define a 3x3 matrix\n",
    "    matrix = [\n",
    "        [1, 2, 3],\n",
    "        [4, 5, 6],\n",
    "        [7, 8, 9]\n",
    "    ]\n",
    "    print(\"The matrix is:\")\n",
    "    for row in matrix:\n",
    "        print(row)\n",
    "\n",
    "define_and_print_matrix()"
   ]
  },
  {
   "cell_type": "code",
   "execution_count": 3,
   "id": "dee2d400-f6e7-4385-990b-ced5b633463d",
   "metadata": {},
   "outputs": [
    {
     "name": "stdout",
     "output_type": "stream",
     "text": [
      "Result of matrix addition:\n",
      "[10, 10, 10]\n",
      "[10, 10, 10]\n",
      "[10, 10, 10]\n"
     ]
    }
   ],
   "source": [
    "#1.ii) Write a python program to perform addition of two square matrices\n",
    "def add_matrices(matrix1, matrix2):\n",
    "    size = len(matrix1)\n",
    "    result_matrix = [[0 for _ in range(size)] for _ in range(size)]\n",
    "    \n",
    "    for i in range(size):\n",
    "        for j in range(size):\n",
    "            result_matrix[i][j] = matrix1[i][j] + matrix2[i][j]\n",
    "    \n",
    "    return result_matrix\n",
    "\n",
    "def print_matrix(matrix):\n",
    "    for row in matrix:\n",
    "        print(row)\n",
    "matrix1 = [\n",
    "    [1, 2, 3],\n",
    "    [4, 5, 6],\n",
    "    [7, 8, 9]\n",
    "]\n",
    "matrix2 = [\n",
    "    [9, 8, 7],\n",
    "    [6, 5, 4],\n",
    "    [3, 2, 1]\n",
    "]\n",
    "result = add_matrices(matrix1, matrix2)\n",
    "print(\"Result of matrix addition:\")\n",
    "print_matrix(result)"
   ]
  },
  {
   "cell_type": "code",
   "execution_count": 5,
   "id": "9d6af0ab-b351-406e-b655-4252d396db6d",
   "metadata": {},
   "outputs": [
    {
     "name": "stdout",
     "output_type": "stream",
     "text": [
      "Result of matrix multiplication:\n",
      "[30, 24, 18]\n",
      "[84, 69, 54]\n",
      "[138, 114, 90]\n"
     ]
    }
   ],
   "source": [
    "#1.iii) Write a python program to perform multiplication of two square matrices\n",
    "def multiply_matrices(matrix1, matrix2):\n",
    "    size = len(matrix1)\n",
    "    result_matrix = [[0 for _ in range(size)] for _ in range(size)]\n",
    "    for i in range(size):\n",
    "        for j in range(size):\n",
    "            for k in range(size):\n",
    "                result_matrix[i][j] += matrix1[i][k] * matrix2[k][j]    \n",
    "    return result_matrix\n",
    "\n",
    "def print_matrix(matrix):\n",
    "    for row in matrix:\n",
    "        print(row)\n",
    "\n",
    "matrix1 = [[1, 2, 3],[4, 5, 6],[7, 8, 9]]\n",
    "matrix2 = [[9, 8, 7],[6, 5, 4],[3, 2, 1]]\n",
    "result = multiply_matrices(matrix1, matrix2)\n",
    "print(\"Result of matrix multiplication:\")\n",
    "print_matrix(result)"
   ]
  },
  {
   "cell_type": "code",
   "execution_count": 7,
   "id": "22fceda2-7fb4-406e-b467-db18dc8bfdf6",
   "metadata": {},
   "outputs": [
    {
     "name": "stdout",
     "output_type": "stream",
     "text": [
      "Select operation:\n",
      "1. Add\n",
      "2. Subtract\n",
      "3. Multiply\n",
      "4. Divide\n"
     ]
    },
    {
     "name": "stdin",
     "output_type": "stream",
     "text": [
      "Enter choice (1/2/3/4 or 'q' to quit):  3\n",
      "Enter first number:  3\n",
      "Enter second number:  6\n"
     ]
    },
    {
     "name": "stdout",
     "output_type": "stream",
     "text": [
      "3.0 * 6.0 = 18.0\n",
      "Select operation:\n",
      "1. Add\n",
      "2. Subtract\n",
      "3. Multiply\n",
      "4. Divide\n"
     ]
    },
    {
     "name": "stdin",
     "output_type": "stream",
     "text": [
      "Enter choice (1/2/3/4 or 'q' to quit):  q\n"
     ]
    },
    {
     "name": "stdout",
     "output_type": "stream",
     "text": [
      "Exiting the calculator...\n"
     ]
    }
   ],
   "source": [
    "#2. Simple Calculator program by making use of functions\n",
    "def add(x, y):\n",
    "    return x + y\n",
    "\n",
    "def subtract(x, y):\n",
    "    return x - y\n",
    "\n",
    "def multiply(x, y):\n",
    "    return x * y\n",
    "\n",
    "def divide(x, y):\n",
    "    if y == 0:\n",
    "        return \"Error! Division by zero.\"\n",
    "    return x / y\n",
    "\n",
    "def display_menu():\n",
    "    print(\"Select operation:\")\n",
    "    print(\"1. Add\")\n",
    "    print(\"2. Subtract\")\n",
    "    print(\"3. Multiply\")\n",
    "    print(\"4. Divide\")\n",
    "\n",
    "def calculator():\n",
    "    while True:\n",
    "        display_menu()\n",
    "        choice = input(\"Enter choice (1/2/3/4 or 'q' to quit): \")\n",
    "        if choice == 'q':\n",
    "            print(\"Exiting the calculator...\")\n",
    "            break\n",
    "        try:\n",
    "            num1 = float(input(\"Enter first number: \"))\n",
    "            num2 = float(input(\"Enter second number: \"))\n",
    "        except ValueError:\n",
    "            print(\"Invalid input! Please enter numeric values.\")\n",
    "            continue\n",
    "        if choice == '1':\n",
    "            print(f\"{num1} + {num2} = {add(num1, num2)}\")\n",
    "        elif choice == '2':\n",
    "            print(f\"{num1} - {num2} = {subtract(num1, num2)}\")\n",
    "        elif choice == '3':\n",
    "            print(f\"{num1} * {num2} = {multiply(num1, num2)}\")\n",
    "        elif choice == '4':\n",
    "            print(f\"{num1} / {num2} = {divide(num1, num2)}\")\n",
    "        else:\n",
    "            print(\"Invalid choice! Please select a valid operation.\")\n",
    "\n",
    "calculator()"
   ]
  },
  {
   "cell_type": "code",
   "execution_count": 9,
   "id": "3efc43f6-a649-47c2-9f96-1a1818190f64",
   "metadata": {},
   "outputs": [
    {
     "name": "stdin",
     "output_type": "stream",
     "text": [
      "Enter a number to find its factorial:  6\n"
     ]
    },
    {
     "name": "stdout",
     "output_type": "stream",
     "text": [
      "The factorial of 6 is 720.\n"
     ]
    }
   ],
   "source": [
    "#3. Find the factorial of a number using recursion\n",
    "def factorial(n):\n",
    "    if n == 0 or n == 1:\n",
    "        return 1\n",
    "    else:\n",
    "        return n * factorial(n - 1)\n",
    "\n",
    "number = int(input(\"Enter a number to find its factorial: \"))\n",
    "if number < 0:\n",
    "    print(\"Factorial is not defined for negative numbers.\")\n",
    "else:\n",
    "    result = factorial(number)\n",
    "    print(f\"The factorial of {number} is {result}.\")"
   ]
  },
  {
   "cell_type": "code",
   "execution_count": null,
   "id": "a6191775-011d-47f2-b5d0-890de53cdc69",
   "metadata": {},
   "outputs": [],
   "source": [
    "#4. Write a function cumulative_ product to compute cumulative product of a list of numbers.\n",
    "def cumulative_product(numbers):\n",
    "    result = []\n",
    "    cumulative_product = 1\n",
    "    for num in numbers:\n",
    "        cumulative_product *= num  \n",
    "        result.append(cumulative_product) \n",
    "    \n",
    "    return result\n",
    "\n",
    "numbers = list(map(int, input(\"Enter numbers separated by spaces: \").split()))\n",
    "result = cumulative_product(numbers)\n",
    "print(\"Cumulative product:\", result)"
   ]
  },
  {
   "cell_type": "code",
   "execution_count": null,
   "id": "78d66410-09ca-4d08-8e31-30385c3940dc",
   "metadata": {},
   "outputs": [],
   "source": []
  }
 ],
 "metadata": {
  "kernelspec": {
   "display_name": "Python 3 (ipykernel)",
   "language": "python",
   "name": "python3"
  },
  "language_info": {
   "codemirror_mode": {
    "name": "ipython",
    "version": 3
   },
   "file_extension": ".py",
   "mimetype": "text/x-python",
   "name": "python",
   "nbconvert_exporter": "python",
   "pygments_lexer": "ipython3",
   "version": "3.12.4"
  }
 },
 "nbformat": 4,
 "nbformat_minor": 5
}
