{
 "cells": [
  {
   "cell_type": "code",
   "execution_count": 1,
   "id": "19db9d70-280f-4dcb-aacd-6cfb042cff81",
   "metadata": {},
   "outputs": [
    {
     "ename": "IndentationError",
     "evalue": "expected an indented block after 'if' statement on line 3 (4219344413.py, line 4)",
     "output_type": "error",
     "traceback": [
      "\u001b[1;36m  Cell \u001b[1;32mIn[1], line 4\u001b[1;36m\u001b[0m\n\u001b[1;33m    print(\"Even number\")\u001b[0m\n\u001b[1;37m    ^\u001b[0m\n\u001b[1;31mIndentationError\u001b[0m\u001b[1;31m:\u001b[0m expected an indented block after 'if' statement on line 3\n"
     ]
    }
   ],
   "source": [
    "#. Write a program to purposefully raise Indentation Error and correct it \n",
    "i=20\n",
    "if i%2==0:\n",
    "print(\"Even number\")"
   ]
  },
  {
   "cell_type": "code",
   "execution_count": 3,
   "id": "80836e65-a5a9-40ec-9439-995de8b847cd",
   "metadata": {},
   "outputs": [
    {
     "name": "stdout",
     "output_type": "stream",
     "text": [
      "Even number\n"
     ]
    }
   ],
   "source": [
    "i=20\n",
    "if i%2==0:\n",
    "    print(\"Even number\")"
   ]
  },
  {
   "cell_type": "code",
   "execution_count": 5,
   "id": "5505f6f6-feb9-4da2-8d27-a9d546831575",
   "metadata": {},
   "outputs": [
    {
     "name": "stdin",
     "output_type": "stream",
     "text": [
      "Enter the principal amount:  1000\n",
      "Enter the rate of interest (as a decimal, e.g., 0.05 for 5%):  3\n",
      "Enter the number of periods (years):  1\n",
      "Enter number of times interest is taken:  1\n"
     ]
    },
    {
     "name": "stdout",
     "output_type": "stream",
     "text": [
      "Compound Interest: 30.00\n"
     ]
    }
   ],
   "source": [
    "#Write a program to calculate compound interest when principal, rate and number of periods are given\n",
    "def calculate_compound_interest(p, rate, t, n):\n",
    "    rate_decimal = rate / 100\n",
    "    amount = p * (1 + rate_decimal / n) ** (n * t)\n",
    "    compound_interest = amount - p\n",
    "    return compound_interest, amount\n",
    "principal = float(input(\"Enter the principal amount: \"))\n",
    "rate = float(input(\"Enter the rate of interest (as a decimal, e.g., 0.05 for 5%): \"))\n",
    "periods = int(input(\"Enter the number of periods (years): \"))\n",
    "n=int(input(\"Enter number of times interest is taken: \"))\n",
    "compound_interest, total_amount = calculate_compound_interest(principal,rate,periods,n)\n",
    "\n",
    "print(f\"Compound Interest: {compound_interest:.2f}\")"
   ]
  },
  {
   "cell_type": "code",
   "execution_count": 7,
   "id": "b761c541-7768-42d1-9e58-31f30463caf4",
   "metadata": {},
   "outputs": [
    {
     "name": "stdin",
     "output_type": "stream",
     "text": [
      "Enter x1:  1\n",
      "Enter y1:  0\n",
      "Enter x2:  6\n",
      "Enter y2:  0\n"
     ]
    },
    {
     "name": "stdout",
     "output_type": "stream",
     "text": [
      "The distance between (1.0, 0.0) and (6.0, 0.0) is 5.00\n"
     ]
    }
   ],
   "source": [
    "#Given coordinates (x1, y1), (x2, y2) find the distance between two points\n",
    "import math\n",
    "def calculate_distance(x1, y1, x2, y2):\n",
    "    distance = math.sqrt((x2 - x1)**2 + (y2 - y1)**2)\n",
    "    return distance\n",
    "x1 = float(input(\"Enter x1: \"))\n",
    "y1 = float(input(\"Enter y1: \"))\n",
    "x2 = float(input(\"Enter x2: \"))\n",
    "y2 = float(input(\"Enter y2: \"))\n",
    "\n",
    "distance = calculate_distance(x1, y1, x2, y2)\n",
    "print(f\"The distance between ({x1}, {y1}) and ({x2}, {y2}) is {distance:.2f}\")"
   ]
  },
  {
   "cell_type": "code",
   "execution_count": 9,
   "id": "18c8c514-b089-4f21-bc92-bc33e13172d8",
   "metadata": {},
   "outputs": [
    {
     "name": "stdin",
     "output_type": "stream",
     "text": [
      "Enter your name:  mani\n",
      "Enter your address:  vanasthalipuram\n",
      "Enter your email:  xyz@gmail.com\n",
      "Enter your phone number:  1233211233\n"
     ]
    },
    {
     "name": "stdout",
     "output_type": "stream",
     "text": [
      "Name       : mani\n",
      "Address    : vanasthalipuram\n",
      "Email      : xyz@gmail.com\n",
      "Phone No.  : 1233211233\n"
     ]
    }
   ],
   "source": [
    "#Read name, address, email and phone number of a person through keyboard andprint the details\n",
    "def details():\n",
    "    name = input(\"Enter your name: \")\n",
    "    address = input(\"Enter your address: \")\n",
    "    email = input(\"Enter your email: \")\n",
    "    phone_number = input(\"Enter your phone number: \")\n",
    "    \n",
    "    print(f\"Name       : {name}\")\n",
    "    print(f\"Address    : {address}\")\n",
    "    print(f\"Email      : {email}\")\n",
    "    print(f\"Phone No.  : {phone_number}\")\n",
    "details()"
   ]
  },
  {
   "cell_type": "code",
   "execution_count": null,
   "id": "a40f9095-38d0-414d-b298-c340bf7f3751",
   "metadata": {},
   "outputs": [],
   "source": []
  }
 ],
 "metadata": {
  "kernelspec": {
   "display_name": "Python 3 (ipykernel)",
   "language": "python",
   "name": "python3"
  },
  "language_info": {
   "codemirror_mode": {
    "name": "ipython",
    "version": 3
   },
   "file_extension": ".py",
   "mimetype": "text/x-python",
   "name": "python",
   "nbconvert_exporter": "python",
   "pygments_lexer": "ipython3",
   "version": "3.12.4"
  }
 },
 "nbformat": 4,
 "nbformat_minor": 5
}
